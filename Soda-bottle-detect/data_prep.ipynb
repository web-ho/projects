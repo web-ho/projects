{
 "cells": [
  {
   "cell_type": "markdown",
   "metadata": {},
   "source": [
    "### This notebook is to prepare data as expected by YOLO. "
   ]
  },
  {
   "cell_type": "code",
   "execution_count": 7,
   "metadata": {},
   "outputs": [],
   "source": [
    "import os\n",
    "import json\n",
    "import shutil\n",
    "import random\n",
    "from tqdm import tqdm\n",
    "from pathlib import Path\n",
    "\n",
    "import cv2\n",
    "from PIL import Image\n",
    "import matplotlib.pyplot as plt\n",
    "from matplotlib import patches\n",
    "\n",
    "import numpy as np\n",
    "import pandas as pd\n",
    "\n",
    "from ultralytics import YOLO\n",
    "\n",
    "from utils import *"
   ]
  },
  {
   "cell_type": "code",
   "execution_count": 8,
   "metadata": {},
   "outputs": [],
   "source": [
    "class config:\n",
    "\n",
    "    TRAIN_DIR = 'train/'\n",
    "    VALID_DIR = 'val/'\n",
    "    TEST_DIR = 'test/'\n",
    "\n",
    "    seed = 29\n"
   ]
  },
  {
   "cell_type": "code",
   "execution_count": 9,
   "metadata": {},
   "outputs": [],
   "source": [
    "class_labels = {\n",
    "    'coca-cola' : 0,\n",
    "    'fanta' : 1,\n",
    "    'sprite' : 2\n",
    "}"
   ]
  },
  {
   "cell_type": "code",
   "execution_count": null,
   "metadata": {},
   "outputs": [],
   "source": [
    "modes =['train', 'val', 'test']\n",
    "make_df(modes)"
   ]
  },
  {
   "cell_type": "code",
   "execution_count": 10,
   "metadata": {},
   "outputs": [],
   "source": [
    "train = pd.read_csv('train_data.csv')\n",
    "valid = pd.read_csv('val_data.csv')\n",
    "test = pd.read_csv('test_data.csv')"
   ]
  },
  {
   "cell_type": "code",
   "execution_count": 11,
   "metadata": {},
   "outputs": [],
   "source": [
    "train_count = count_bottles(train)\n",
    "val_count = count_bottles(valid)\n",
    "test_count = count_bottles(test)"
   ]
  },
  {
   "cell_type": "code",
   "execution_count": 12,
   "metadata": {},
   "outputs": [],
   "source": [
    "train_df = preprocess_bbox(train)\n",
    "val_df = preprocess_bbox(valid)\n",
    "test_df = preprocess_bbox(test)"
   ]
  },
  {
   "cell_type": "code",
   "execution_count": null,
   "metadata": {},
   "outputs": [],
   "source": [
    "# make output_dir\n",
    "dest_dir = \"yolo_data\"\n",
    "!mkdir {dest_dir}\n",
    "\n",
    "_ = Path(f\"{dest_dir}/dataset.yaml\").write_text(f\"\"\"path: {dest_dir}\n",
    "train: *folder path*\\\\train\\\\images\n",
    "val: *folder path*\\\\val\\\\images\n",
    "test: *folder path*\\\\test\\\\images\n",
    "\n",
    "\n",
    "nc: 3\n",
    "names: ['coca-cola', 'fanta', 'sprite']\n",
    "\"\"\")\n"
   ]
  },
  {
   "cell_type": "code",
   "execution_count": null,
   "metadata": {},
   "outputs": [],
   "source": [
    "def create_txt_file(path: Path, bboxes, category_ids, width, height):\n",
    "    \"\"\"Creates a .txt file with annotation strings for the given bounding boxes\"\"\"\n",
    "    \n",
    "    anno_str = []\n",
    "    for bbox, category_id in zip(bboxes, category_ids):\n",
    "        x, y, w, h = bbox[0], bbox[1], bbox[2], bbox[3]\n",
    "        xc = x + w / 2\n",
    "        yc = y + h / 2\n",
    "        xc /= width\n",
    "        yc /= height\n",
    "        w /= width\n",
    "        h /= height\n",
    "        anno_str.append(f\"{category_id} {xc} {yc} {w} {h}\")\n",
    "    path.write_text(\"\\n\".join(anno_str))"
   ]
  },
  {
   "cell_type": "code",
   "execution_count": null,
   "metadata": {},
   "outputs": [],
   "source": [
    "path_list = []\n",
    "for mode in [\"train\", \"val\", \"test\"]:\n",
    "    image_folder = Path(dest_dir) / f\"{mode}\" / \"images\" \n",
    "    image_folder.mkdir(parents=True, exist_ok=True)\n",
    "\n",
    "    label_folder = Path(dest_dir) / f\"{mode}\" / \"labels\"\n",
    "    label_folder.mkdir(parents=True, exist_ok=True)\n",
    "\n",
    "    df = locals().get(f\"{mode}_df\")\n",
    "\n",
    "    grouped = df.groupby('file_name')\n",
    "    for image_id, group_df in tqdm(grouped, total=len(grouped)):\n",
    "        file_name = group_df.iloc[0].file_name\n",
    "        width, height = group_df.iloc[0].width, group_df.iloc[0].height\n",
    "        bboxes = [(row.x, row.y, row.w, row.h) for _, row in group_df.iterrows()]\n",
    "        category_ids = [(row.category_id) for _, row in group_df.iterrows()]\n",
    "        img_path = image_folder / f\"{file_name}.jpg\"\n",
    "        label_path = label_folder / f\"{file_name}.txt\"\n",
    "        shutil.copy(f\"{mode}/{file_name}\", img_path)\n",
    "        create_txt_file(label_path, bboxes, category_ids, width, height)\n",
    "        path_list.append((str(img_path), str(label_path)))"
   ]
  }
 ],
 "metadata": {
  "kernelspec": {
   "display_name": "fly",
   "language": "python",
   "name": "python3"
  },
  "language_info": {
   "codemirror_mode": {
    "name": "ipython",
    "version": 3
   },
   "file_extension": ".py",
   "mimetype": "text/x-python",
   "name": "python",
   "nbconvert_exporter": "python",
   "pygments_lexer": "ipython3",
   "version": "3.11.0"
  },
  "orig_nbformat": 4
 },
 "nbformat": 4,
 "nbformat_minor": 2
}
